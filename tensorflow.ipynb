{
  "nbformat": 4,
  "nbformat_minor": 0,
  "metadata": {
    "colab": {
      "provenance": []
    },
    "kernelspec": {
      "name": "python3",
      "display_name": "Python 3"
    },
    "language_info": {
      "name": "python"
    }
  },
  "cells": [
    {
      "cell_type": "code",
      "source": [
        "import tensorflow as tf\n"
      ],
      "metadata": {
        "id": "Tedm4kGXe40d"
      },
      "execution_count": null,
      "outputs": []
    },
    {
      "cell_type": "code",
      "source": [
        "tensor_1= tf.constant([[1,2],[3,4]])\n",
        "tensor_2= tf.constant([[5,6],[7,8]])\n",
        "print(\"Tensor 1:\\n\", tensor_1)\n",
        "print(\"Tensor_2:\\n\",tensor_2)"
      ],
      "metadata": {
        "colab": {
          "base_uri": "https://localhost:8080/"
        },
        "id": "BE0bSfeqfQy_",
        "outputId": "a9836967-b378-4093-842f-ed30b2be74ed"
      },
      "execution_count": null,
      "outputs": [
        {
          "output_type": "stream",
          "name": "stdout",
          "text": [
            "Tensor 1:\n",
            " tf.Tensor(\n",
            "[[1 2]\n",
            " [3 4]], shape=(2, 2), dtype=int32)\n",
            "Tensor_2:\n",
            " tf.Tensor(\n",
            "[[5 6]\n",
            " [7 8]], shape=(2, 2), dtype=int32)\n"
          ]
        }
      ]
    },
    {
      "cell_type": "code",
      "source": [
        "add =tf.add(tensor_1,tensor_2)\n",
        "sub= tf.subtract(tensor_1,tensor_2)\n",
        "mul= tf.multiply(tensor_1,tensor_2)\n",
        "matmul= tf.matmul(tensor_1,tensor_2)\n",
        "print(\"Addition:\\n\",add)\n",
        "print(\"subtraction:\\n\",sub)\n",
        "print(\"Element-wise Multiplication:\\n\",matmul)\n",
        "print(\"Matrix Multiplication:\\n\",matmul)\n"
      ],
      "metadata": {
        "colab": {
          "base_uri": "https://localhost:8080/"
        },
        "id": "NrkUfRmrfyVW",
        "outputId": "2a1c83d1-e0b0-451c-c05b-338e6a667d9f"
      },
      "execution_count": null,
      "outputs": [
        {
          "output_type": "stream",
          "name": "stdout",
          "text": [
            "Addition:\n",
            " tf.Tensor(\n",
            "[[ 6  8]\n",
            " [10 12]], shape=(2, 2), dtype=int32)\n",
            "subtraction:\n",
            " tf.Tensor(\n",
            "[[-4 -4]\n",
            " [-4 -4]], shape=(2, 2), dtype=int32)\n",
            "Element-wise Multiplication:\n",
            " tf.Tensor(\n",
            "[[19 22]\n",
            " [43 50]], shape=(2, 2), dtype=int32)\n",
            "Matrix Multiplication:\n",
            " tf.Tensor(\n",
            "[[19 22]\n",
            " [43 50]], shape=(2, 2), dtype=int32)\n"
          ]
        }
      ]
    },
    {
      "cell_type": "code",
      "source": [
        "tensor_3= tf.constant([1,2,3,4,5,6])\n",
        "reshaped= tf.reshape(tensor_3,[2,3])\n",
        "sliced= reshaped[:,1:]\n",
        "print(\"Reshaped Tensor:\\n\", reshaped)\n",
        "print(\"sliced Tensor:\\n\", sliced)"
      ],
      "metadata": {
        "colab": {
          "base_uri": "https://localhost:8080/"
        },
        "id": "wVxIv-kBgem2",
        "outputId": "b51e09d0-6fc7-4854-c04a-062274bd9ece"
      },
      "execution_count": null,
      "outputs": [
        {
          "output_type": "stream",
          "name": "stdout",
          "text": [
            "Reshaped Tensor:\n",
            " tf.Tensor(\n",
            "[[1 2 3]\n",
            " [4 5 6]], shape=(2, 3), dtype=int32)\n",
            "sliced Tensor:\n",
            " tf.Tensor(\n",
            "[[2 3]\n",
            " [5 6]], shape=(2, 2), dtype=int32)\n"
          ]
        }
      ]
    },
    {
      "cell_type": "code",
      "source": [
        "float_tensor= tf.cast(tensor_1,dtype =tf.float32)\n",
        "print(\"Float Tensor:\\n\",float_tensor)"
      ],
      "metadata": {
        "colab": {
          "base_uri": "https://localhost:8080/"
        },
        "id": "nTyL3I7IiIcN",
        "outputId": "61812fe3-b72f-4db7-b17f-361c750e3e8f"
      },
      "execution_count": null,
      "outputs": [
        {
          "output_type": "stream",
          "name": "stdout",
          "text": [
            "Float Tensor:\n",
            " tf.Tensor(\n",
            "[[1. 2.]\n",
            " [3. 4.]], shape=(2, 2), dtype=float32)\n"
          ]
        }
      ]
    },
    {
      "cell_type": "code",
      "source": [
        "var= tf.Variable([[1,2],[3,4]])\n",
        "var.assign_add([[10,10],[10,10]])\n",
        "print(\"Updated Variable:\\n\",var)"
      ],
      "metadata": {
        "colab": {
          "base_uri": "https://localhost:8080/"
        },
        "id": "ox5c119mjsHl",
        "outputId": "8cffc679-e918-462b-b700-f7331a93287c"
      },
      "execution_count": null,
      "outputs": [
        {
          "output_type": "stream",
          "name": "stdout",
          "text": [
            "Updated Variable:\n",
            " <tf.Variable 'Variable:0' shape=(2, 2) dtype=int32, numpy=\n",
            "array([[11, 12],\n",
            "       [13, 14]], dtype=int32)>\n"
          ]
        }
      ]
    },
    {
      "cell_type": "code",
      "source": [
        "print(\"Shape of tensor_1:\", tensor_1.shape)\n",
        "print(\"Data type of tensor_1:\", tensor_1.dtype)"
      ],
      "metadata": {
        "colab": {
          "base_uri": "https://localhost:8080/"
        },
        "id": "gwZ4m8vgkTQd",
        "outputId": "2ea2b851-27a1-47e7-91ef-5dce0eb25c87"
      },
      "execution_count": null,
      "outputs": [
        {
          "output_type": "stream",
          "name": "stdout",
          "text": [
            "Shape of tensor_1: (2, 2)\n",
            "Data type of tensor_1: <dtype: 'int32'>\n"
          ]
        }
      ]
    },
    {
      "cell_type": "code",
      "source": [],
      "metadata": {
        "id": "HXM8OXUuk2VU"
      },
      "execution_count": null,
      "outputs": []
    }
  ]
}